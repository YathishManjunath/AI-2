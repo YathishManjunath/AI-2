{
 "cells": [
  {
   "cell_type": "code",
   "execution_count": 10,
   "id": "346a1ff4",
   "metadata": {},
   "outputs": [
    {
     "name": "stdout",
     "output_type": "stream",
     "text": [
      "The original string is:- \n",
      "\n",
      " It was the first exam of final term. All the students were looking very nervous, as the exam was of history and it was just going to start. All the students were worried about it but Raman was worried the most as he had not studied whole year and now it's exam time. Liya (his friend) asked him that why is he so worried. But he didn't answer becayse many question were now rising in his mind, like, Why he didn't study? Why he just wasted his time in playing games and watching tv? Why he didn't listen to his parents and teachers? But now there is \"No use of crying over the spilt milk\".\n",
      "\n",
      "\n",
      "The output string is:- \n",
      "\n",
      " It was the first exam of final term All the students were looking very nervous as the exam was of history and it was just going to start All the students were worried about it but Raman was worried the most as he had not studied whole year and now its exam time Liya his friend asked him that why is he so worried But he didnt answer becayse many question were now rising in his mind like Why he didnt study Why he just wasted his time in playing games and watching tv Why he didnt listen to his parents and teachers But now there is No use of crying over the spilt milk\n",
      "\n",
      "\n",
      "The total number of punctuations:  570\n"
     ]
    }
   ],
   "source": [
    "\n",
    "punctuations = '''!()-[]{};:'\"\\,<>./?@#$%^&*_~'''\n",
    "\n",
    "my_str = \"\"\"It was the first exam of final term. All the students were looking very nervous, as the exam was of history and it was just going to start. All the students were worried about it but Raman was worried the most as he had not studied whole year and now it's exam time. Liya (his friend) asked him that why is he so worried. But he didn't answer becayse many question were now rising in his mind, like, Why he didn't study? Why he just wasted his time in playing games and watching tv? Why he didn't listen to his parents and teachers? But now there is \"No use of crying over the spilt milk\".\"\"\"\n",
    "\n",
    "pun_c = 0\n",
    "no_punct = \"\"\n",
    "for char in my_str:\n",
    "    if char not in punctuations:\n",
    "        no_punct = no_punct + char\n",
    "        pun_c +=1\n",
    "\n",
    "print(\"The original string is:- \\n\\n\",my_str)\n",
    "print(\"\\n\\nThe output string is:- \\n\\n\",no_punct)\n",
    "print(\"\\n\\nThe total number of punctuations: \",pun_c)"
   ]
  },
  {
   "cell_type": "code",
   "execution_count": 2,
   "id": "6de210f4",
   "metadata": {},
   "outputs": [
    {
     "name": "stdout",
     "output_type": "stream",
     "text": [
      "The total number of spaces:  114\n"
     ]
    }
   ],
   "source": [
    "space = \" \"\n",
    "count = 0\n",
    "for char in my_str:\n",
    "    if (char == space):\n",
    "        count = count + 1\n",
    "        \n",
    "print(\"The total number of spaces: \",count)"
   ]
  },
  {
   "cell_type": "code",
   "execution_count": 3,
   "id": "3c9b480d",
   "metadata": {},
   "outputs": [
    {
     "name": "stdout",
     "output_type": "stream",
     "text": [
      "IT was The firsT exam of final Term. All The sTudenTs were looking very nervous, as The exam was of hisTory and iT was jusT going To sTarT. All The sTudenTs were worried abouT iT buT Raman was worried The mosT as he had noT sTudied whole year and now iT's exam Time. Liya (his friend) asked him ThaT why is he so worried. BuT he didn'T answer becayse many quesTion were now rising in his mind, like, Why he didn'T sTudy? Why he jusT wasTed his Time in playing games and waTching Tv? Why he didn'T lisTen To his parenTs and Teachers? BuT now There is \"No use of crying over The spilT milk\".\n"
     ]
    }
   ],
   "source": [
    "print(my_str.replace(\"t\",\"T\"))"
   ]
  },
  {
   "cell_type": "code",
   "execution_count": null,
   "id": "a9eb61dd",
   "metadata": {},
   "outputs": [],
   "source": []
  }
 ],
 "metadata": {
  "kernelspec": {
   "display_name": "Python 3 (ipykernel)",
   "language": "python",
   "name": "python3"
  },
  "language_info": {
   "codemirror_mode": {
    "name": "ipython",
    "version": 3
   },
   "file_extension": ".py",
   "mimetype": "text/x-python",
   "name": "python",
   "nbconvert_exporter": "python",
   "pygments_lexer": "ipython3",
   "version": "3.11.2"
  }
 },
 "nbformat": 4,
 "nbformat_minor": 5
}
