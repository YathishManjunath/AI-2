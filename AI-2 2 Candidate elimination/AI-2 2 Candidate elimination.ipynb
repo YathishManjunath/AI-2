{
 "cells": [
  {
   "cell_type": "code",
   "execution_count": 4,
   "id": "a962fd67",
   "metadata": {},
   "outputs": [
    {
     "name": "stdout",
     "output_type": "stream",
     "text": [
      "[('Example', 'Sky', 'AirTemp', 'Humidity', 'Wind', 'Water', 'Forecast', 'EnjoySport'), ('1', 'Sunny', 'Warm', 'Normal', 'Strong', 'Warm', 'Same', 'Yes'), ('2', 'Sunny', 'Warm', 'High', 'Strong', 'Warm', 'Same', 'Yes'), ('3', 'Rain', 'Cold', 'High', 'Strong', 'Warm', 'Change', 'No'), ('4', 'Sunny', 'Warm', 'High', 'Strong', 'Cool', 'Change', 'Yes')]\n"
     ]
    }
   ],
   "source": [
    "import csv\n",
    "with open('CEDS12.csv') as csvFile:\n",
    "    examples = [tuple(line) for line in csv.reader(csvFile)]\n",
    "print(examples)"
   ]
  },
  {
   "cell_type": "code",
   "execution_count": 5,
   "id": "d8a19255",
   "metadata": {},
   "outputs": [
    {
     "name": "stdout",
     "output_type": "stream",
     "text": [
      "   Example    Sky AirTemp Humidity    Wind Water Forecast EnjoySport\n",
      "0        1  Sunny    Warm   Normal  Strong  Warm     Same        Yes\n",
      "1        2  Sunny    Warm     High  Strong  Warm     Same        Yes\n",
      "2        3   Rain    Cold     High  Strong  Warm   Change         No\n",
      "3        4  Sunny    Warm     High  Strong  Cool   Change        Yes\n"
     ]
    }
   ],
   "source": [
    "import pandas as pd \n",
    "\n",
    "df=pd.read_csv(\"CEDS12.csv\",header=0)\n",
    "dataset = df.values.tolist()\n",
    "\n",
    "print(df)"
   ]
  },
  {
   "cell_type": "code",
   "execution_count": 6,
   "id": "baf56768",
   "metadata": {},
   "outputs": [
    {
     "name": "stdout",
     "output_type": "stream",
     "text": [
      "The initial value of s is :\n",
      " [1, 'Sunny', 'Warm', 'Normal', 'Strong', 'Warm', 'Same']\n",
      "The initial value of g is :\n",
      " [['?', '?', '?', '?', '?', '?', '?'], ['?', '?', '?', '?', '?', '?', '?'], ['?', '?', '?', '?', '?', '?', '?'], ['?', '?', '?', '?', '?', '?', '?'], ['?', '?', '?', '?', '?', '?', '?'], ['?', '?', '?', '?', '?', '?', '?'], ['?', '?', '?', '?', '?', '?', '?']]\n",
      "\n",
      "After 1 th insatnce\n",
      "Specific boundary is : [1, 'Sunny', 'Warm', 'Normal', 'Strong', 'Warm', 'Same']\n",
      "General boundary is : [['?', '?', '?', '?', '?', '?', '?'], ['?', '?', '?', '?', '?', '?', '?'], ['?', '?', '?', '?', '?', '?', '?'], ['?', '?', '?', '?', '?', '?', '?'], ['?', '?', '?', '?', '?', '?', '?'], ['?', '?', '?', '?', '?', '?', '?'], ['?', '?', '?', '?', '?', '?', '?']]\n",
      "\n",
      "After 2 th insatnce\n",
      "Specific boundary is : ['?', 'Sunny', 'Warm', '?', 'Strong', 'Warm', 'Same']\n",
      "General boundary is : [['?', '?', '?', '?', '?', '?', '?'], ['?', '?', '?', '?', '?', '?', '?'], ['?', '?', '?', '?', '?', '?', '?'], ['?', '?', '?', '?', '?', '?', '?'], ['?', '?', '?', '?', '?', '?', '?'], ['?', '?', '?', '?', '?', '?', '?'], ['?', '?', '?', '?', '?', '?', '?']]\n",
      "\n",
      "After 3 th insatnce\n",
      "Specific boundary is : ['?', 'Sunny', 'Warm', '?', 'Strong', 'Warm', 'Same']\n",
      "General boundary is : [['?', '?', '?', '?', '?', '?', '?'], ['?', 'Sunny', '?', '?', '?', '?', '?'], ['?', '?', 'Warm', '?', '?', '?', '?'], ['?', '?', '?', '?', '?', '?', '?'], ['?', '?', '?', '?', '?', '?', '?'], ['?', '?', '?', '?', '?', '?', '?'], ['?', '?', '?', '?', '?', '?', 'Same']]\n",
      "\n",
      "After 4 th insatnce\n",
      "Specific boundary is : ['?', 'Sunny', 'Warm', '?', 'Strong', '?', '?']\n",
      "General boundary is : [['?', '?', '?', '?', '?', '?', '?'], ['?', 'Sunny', '?', '?', '?', '?', '?'], ['?', '?', 'Warm', '?', '?', '?', '?'], ['?', '?', '?', '?', '?', '?', '?'], ['?', '?', '?', '?', '?', '?', '?'], ['?', '?', '?', '?', '?', '?', '?'], ['?', '?', '?', '?', '?', '?', '?']]\n",
      "\n",
      "Final specific hypothesis:\n",
      " ['?', 'Sunny', 'Warm', '?', 'Strong', '?', '?']\n",
      "\n",
      "Final general hypothesis:\n",
      " [['?', '?', '?', '?', '?', '?', '?'], ['?', 'Sunny', '?', '?', '?', '?', '?'], ['?', '?', 'Warm', '?', '?', '?', '?'], ['?', '?', '?', '?', '?', '?', '?'], ['?', '?', '?', '?', '?', '?', '?'], ['?', '?', '?', '?', '?', '?', '?'], ['?', '?', '?', '?', '?', '?', '?']]\n"
     ]
    }
   ],
   "source": [
    "s=dataset[0][0:-1]\n",
    "print(\"The initial value of s is :\\n\",s)\n",
    "\n",
    "#initialize the general hypothesis\n",
    "g=[['?' for i in range(len(s))] for j in range(len(s))]\n",
    "print(\"The initial value of g is :\\n\",g)\n",
    "\n",
    "for row in dataset:\n",
    "    if row[-1]==\"Yes\":\n",
    "        for j in range(len(s)):\n",
    "            if row[j]!=s[j]:\n",
    "                s[j]='?'\n",
    "                g[j][j]='?'\n",
    "    elif row[-1]==\"No\":\n",
    "        for j in range(len(s)):\n",
    "            if row[j]!=s[j]:\n",
    "                g[j][j]=s[j]\n",
    "            else:\n",
    "                g[j][j]=\"?\"\n",
    "    print(\"\\nAfter\",dataset.index(row)+1,\"th insatnce\")\n",
    "        \n",
    "    print(\"Specific boundary is :\",s)\n",
    "    print(\"General boundary is :\",g)\n",
    "\n",
    "print(\"\\nFinal specific hypothesis:\\n\",s)\n",
    "print(\"\\nFinal general hypothesis:\\n\",g)"
   ]
  }
 ],
 "metadata": {
  "kernelspec": {
   "display_name": "Python 3 (ipykernel)",
   "language": "python",
   "name": "python3"
  },
  "language_info": {
   "codemirror_mode": {
    "name": "ipython",
    "version": 3
   },
   "file_extension": ".py",
   "mimetype": "text/x-python",
   "name": "python",
   "nbconvert_exporter": "python",
   "pygments_lexer": "ipython3",
   "version": "3.11.2"
  }
 },
 "nbformat": 4,
 "nbformat_minor": 5
}
