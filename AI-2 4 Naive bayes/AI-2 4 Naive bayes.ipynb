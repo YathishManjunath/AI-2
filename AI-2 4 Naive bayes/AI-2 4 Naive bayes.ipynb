{
 "cells": [
  {
   "cell_type": "markdown",
   "id": "565a4edc",
   "metadata": {},
   "source": [
    "# Basic Naive bayes"
   ]
  },
  {
   "cell_type": "code",
   "execution_count": 1,
   "id": "36eb0623",
   "metadata": {},
   "outputs": [],
   "source": [
    "#p(D)\n",
    "p_diabetes = 0.01"
   ]
  },
  {
   "cell_type": "code",
   "execution_count": 2,
   "id": "eb566863",
   "metadata": {},
   "outputs": [],
   "source": [
    "#p(`D)\n",
    "p_no_diabetes = 0.99"
   ]
  },
  {
   "cell_type": "code",
   "execution_count": 3,
   "id": "018f19b1",
   "metadata": {},
   "outputs": [],
   "source": [
    "# Sensitivity or p(pos|D)\n",
    "p_pos_diabetes = 0.9"
   ]
  },
  {
   "cell_type": "code",
   "execution_count": 4,
   "id": "c438d5ea",
   "metadata": {},
   "outputs": [],
   "source": [
    "# Specificity or p(Neg/`D)\n",
    "p_neg_no_diabetes = 0.9"
   ]
  },
  {
   "cell_type": "code",
   "execution_count": 5,
   "id": "ce6e0ad0",
   "metadata": {},
   "outputs": [
    {
     "name": "stdout",
     "output_type": "stream",
     "text": [
      "The probability of getting a positive test result p(pos) is: {} 0.10799999999999998\n"
     ]
    }
   ],
   "source": [
    "#p(pos)\n",
    "p_pos = (p_diabetes *p_pos_diabetes) + (p_no_diabetes *(1-p_neg_no_diabetes))\n",
    "print('The probability of getting a positive test result p(pos) is: {}', format(p_pos))"
   ]
  },
  {
   "cell_type": "code",
   "execution_count": 6,
   "id": "431917a1",
   "metadata": {},
   "outputs": [
    {
     "name": "stdout",
     "output_type": "stream",
     "text": [
      "Probability of an individual having diabetes:given that individual got a positive test result is : 0.08333333333333336\n"
     ]
    }
   ],
   "source": [
    "# Using p(pos) we can calculate p(D|Pos)\n",
    "#p(D|Pos)\n",
    "p_diabetes_pos = (p_diabetes * p_pos_diabetes) / p_pos\n",
    "print('Probability of an individual having diabetes:given that individual got a positive test result is :', format(p_diabetes_pos))"
   ]
  },
  {
   "cell_type": "markdown",
   "id": "f1d90ee8",
   "metadata": {},
   "source": [
    "# Implement naïve bayes theorem to classify the English text "
   ]
  },
  {
   "cell_type": "code",
   "execution_count": 7,
   "id": "d367a0b0",
   "metadata": {},
   "outputs": [],
   "source": [
    "import re\n",
    "from collections import defaultdict"
   ]
  },
  {
   "cell_type": "code",
   "execution_count": 8,
   "id": "d48cdd23",
   "metadata": {},
   "outputs": [],
   "source": [
    "class NaiveBayes:\n",
    "    \n",
    "    def __init__(self, classes):\n",
    "        self.classes = classes\n",
    "        self.vocab = set()\n",
    "        self.class_word_counts = defaultdict(lambda: defaultdict(int))\n",
    "        self.class_doc_counts = defaultdict(int)\n",
    "        self.num_docs = 0\n",
    "        \n",
    "    def preprocess(self, text):\n",
    "        # Remove punctuations and convert to lowercase\n",
    "        text = re.sub(r'[^\\w\\s]', '', text).lower()\n",
    "        # Remove stop words\n",
    "        stop_words = set(['a', 'an', 'the', 'in', 'on', 'at', 'of', 'to', 'for', 'by', 'with', 'from', 'and'])\n",
    "        tokens = text.split()\n",
    "        tokens = [token for token in tokens if token not in stop_words]\n",
    "        return tokens\n",
    "        \n",
    "    def train(self, documents):\n",
    "        for document, category in documents:\n",
    "            tokens = self.preprocess(document)\n",
    "            self.vocab.update(tokens)\n",
    "            self.class_doc_counts[category] += 1\n",
    "            self.num_docs += 1\n",
    "            for word in tokens:\n",
    "                self.class_word_counts[category][word] += 1\n",
    "        \n",
    "    def predict(self, document):\n",
    "        tokens = self.preprocess(document)\n",
    "        posteriors = {category: 0 for category in self.classes}\n",
    "        for category in self.classes:\n",
    "            prior = self.class_doc_counts[category] / self.num_docs\n",
    "            posterior = prior\n",
    "            for word in tokens:\n",
    "                word_count = self.class_word_counts[category][word]\n",
    "                total_count = sum(self.class_word_counts[category].values())\n",
    "                conditional = word_count / total_count\n",
    "                posterior *= conditional\n",
    "            posteriors[category] = posterior\n",
    "        return max(posteriors, key=posteriors.get)"
   ]
  },
  {
   "cell_type": "code",
   "execution_count": 9,
   "id": "a35f2e75",
   "metadata": {},
   "outputs": [
    {
     "name": "stdout",
     "output_type": "stream",
     "text": [
      "The document \"ELECTION is coming up\" belongs to the category \"politics\"\n",
      "The document \"The sun is bright\" belongs to the category \"weather\"\n",
      "The document \"The economy is improving\" belongs to the category \"economy\"\n"
     ]
    }
   ],
   "source": [
    "docs = [\n",
    "    ('The sky is blue', 'weather'),\n",
    "    ('The sun is bright', 'weather'),\n",
    "    ('The news is depressing', 'politics'),\n",
    "    ('The economy is improving', 'economy'),\n",
    "    ('The movie was great', 'entertainment'),\n",
    "    ('I love pizza', 'food'),\n",
    "    ('The game was exciting', 'sports'),\n",
    "    ('The team played poorly', 'sports'),\n",
    "    ('The election is coming up', 'politics'),\n",
    "]\n",
    "\n",
    "nb = NaiveBayes(['weather', 'politics', 'economy', 'entertainment', 'food', 'sports'])\n",
    "nb.train(docs)\n",
    "\n",
    "# Predict the category of a new document\n",
    "new_doc1 = 'ELECTION is coming up'\n",
    "new_doc2 = 'The sun is bright'\n",
    "new_doc3 = 'The economy is improving'\n",
    "category1 = nb.predict(new_doc1)\n",
    "category2 = nb.predict(new_doc2)\n",
    "category3 = nb.predict(new_doc3)\n",
    "print(f'The document \"{new_doc1}\" belongs to the category \"{category1}\"')\n",
    "print(f'The document \"{new_doc2}\" belongs to the category \"{category2}\"')\n",
    "print(f'The document \"{new_doc3}\" belongs to the category \"{category3}\"')"
   ]
  },
  {
   "cell_type": "code",
   "execution_count": null,
   "id": "9f78094f",
   "metadata": {},
   "outputs": [],
   "source": []
  },
  {
   "cell_type": "code",
   "execution_count": null,
   "id": "3b656058",
   "metadata": {},
   "outputs": [],
   "source": []
  }
 ],
 "metadata": {
  "kernelspec": {
   "display_name": "Python 3 (ipykernel)",
   "language": "python",
   "name": "python3"
  },
  "language_info": {
   "codemirror_mode": {
    "name": "ipython",
    "version": 3
   },
   "file_extension": ".py",
   "mimetype": "text/x-python",
   "name": "python",
   "nbconvert_exporter": "python",
   "pygments_lexer": "ipython3",
   "version": "3.11.2"
  }
 },
 "nbformat": 4,
 "nbformat_minor": 5
}
