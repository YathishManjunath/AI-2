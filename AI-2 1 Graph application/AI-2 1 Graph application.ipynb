{
 "cells": [
  {
   "cell_type": "code",
   "execution_count": 1,
   "id": "76c28ecc",
   "metadata": {},
   "outputs": [],
   "source": [
    "class City:\n",
    "    def __init__(self, name):\n",
    "        self.name = name\n",
    "        self.connections = {}  # to store neighboring cities and distances\n",
    "    \n",
    "    def add_connection(self, city, distance):\n",
    "        self.connections[city] = distance"
   ]
  },
  {
   "cell_type": "code",
   "execution_count": 2,
   "id": "a64e6be5",
   "metadata": {},
   "outputs": [],
   "source": [
    "class StateSpaceGraph:\n",
    "    def __init__(self):\n",
    "        self.cities = {}\n",
    "    \n",
    "    def add_city(self, city_name):\n",
    "        city = City(city_name)\n",
    "        self.cities[city_name] = city\n",
    "    \n",
    "    def add_connection(self, city1, city2, distance):\n",
    "        self.cities[city1].add_connection(self.cities[city2], distance)\n",
    "        self.cities[city2].add_connection(self.cities[city1], distance)\n",
    "    \n",
    "    def shortest_path(self, start_city, end_city):\n",
    "        distances = {city: float('inf') for city in self.cities}\n",
    "        distances[start_city] = 0\n",
    "        visited_cities = set()\n",
    "        unvisited_cities = set(self.cities.values())\n",
    "        \n",
    "        while unvisited_cities:\n",
    "            current_city = min(unvisited_cities, key=lambda city: distances[city.name])\n",
    "            unvisited_cities.remove(current_city)\n",
    "            visited_cities.add(current_city)\n",
    "            \n",
    "            for neighbor, distance in current_city.connections.items():\n",
    "                if neighbor in visited_cities:\n",
    "                    continue\n",
    "                new_distance = distances[current_city.name] + distance\n",
    "                if new_distance < distances[neighbor.name]:\n",
    "                    distances[neighbor.name] = new_distance\n",
    "        \n",
    "        return distances[end_city]"
   ]
  },
  {
   "cell_type": "code",
   "execution_count": 3,
   "id": "6cc63be7",
   "metadata": {},
   "outputs": [
    {
     "name": "stdout",
     "output_type": "stream",
     "text": [
      "Minimum cost from A to C:  5\n",
      "Minimum cost from D to C:  1\n",
      "Minimum cost from B to C:  3\n",
      "Minimum cost from B to D:  4\n"
     ]
    }
   ],
   "source": [
    "graph = StateSpaceGraph()\n",
    "graph.add_city('A')\n",
    "graph.add_city('B')\n",
    "graph.add_city('C')\n",
    "graph.add_city('D')\n",
    "graph.add_connection('A', 'B', 2)\n",
    "graph.add_connection('B', 'C', 3)\n",
    "graph.add_connection('C', 'D', 1)\n",
    "graph.add_connection('A', 'D', 5)\n",
    "print(\"Minimum cost from A to C: \",graph.shortest_path('A', 'C')) \n",
    "print(\"Minimum cost from D to C: \",graph.shortest_path('D', 'C')) \n",
    "print(\"Minimum cost from B to C: \",graph.shortest_path('B', 'C')) \n",
    "print(\"Minimum cost from B to D: \",graph.shortest_path('B', 'D')) "
   ]
  }
 ],
 "metadata": {
  "kernelspec": {
   "display_name": "Python 3 (ipykernel)",
   "language": "python",
   "name": "python3"
  },
  "language_info": {
   "codemirror_mode": {
    "name": "ipython",
    "version": 3
   },
   "file_extension": ".py",
   "mimetype": "text/x-python",
   "name": "python",
   "nbconvert_exporter": "python",
   "pygments_lexer": "ipython3",
   "version": "3.11.2"
  }
 },
 "nbformat": 4,
 "nbformat_minor": 5
}
