{
 "cells": [
  {
   "cell_type": "code",
   "execution_count": 8,
   "id": "f27be3ab",
   "metadata": {},
   "outputs": [
    {
     "name": "stderr",
     "output_type": "stream",
     "text": [
      "[nltk_data] Downloading package punkt to\n",
      "[nltk_data]     /home/yathishmanjunath/nltk_data...\n",
      "[nltk_data]   Package punkt is already up-to-date!\n",
      "[nltk_data] Downloading package averaged_perceptron_tagger to\n",
      "[nltk_data]     /home/yathishmanjunath/nltk_data...\n",
      "[nltk_data]   Package averaged_perceptron_tagger is already up-to-\n",
      "[nltk_data]       date!\n",
      "[nltk_data] Downloading package maxent_ne_chunker to\n",
      "[nltk_data]     /home/yathishmanjunath/nltk_data...\n",
      "[nltk_data]   Package maxent_ne_chunker is already up-to-date!\n",
      "[nltk_data] Downloading package words to\n",
      "[nltk_data]     /home/yathishmanjunath/nltk_data...\n",
      "[nltk_data]   Package words is already up-to-date!\n"
     ]
    },
    {
     "data": {
      "text/plain": [
       "True"
      ]
     },
     "execution_count": 8,
     "metadata": {},
     "output_type": "execute_result"
    }
   ],
   "source": [
    "import nltk\n",
    "nltk.download('punkt')\n",
    "nltk.download('averaged_perceptron_tagger')\n",
    "nltk.download('maxent_ne_chunker')\n",
    "nltk.download('words')"
   ]
  },
  {
   "cell_type": "code",
   "execution_count": 9,
   "id": "64764970",
   "metadata": {},
   "outputs": [],
   "source": [
    "sentence = \"\"\"The Kashmir Files is a 2022 Indian Hindi-langauge drama film,written and directed by Vivek Agnihotri. Produced by Zee Studios, the film is based on the exodus of Kashmiri Pandits during the Kashmir Insurgency, which is portrays as a genocide. It starts Anupam Kher, Darshan Kumar, Pallavi Joshi and Mithun Chakraborty.\"\"\""
   ]
  },
  {
   "cell_type": "code",
   "execution_count": 10,
   "id": "a8a12853",
   "metadata": {},
   "outputs": [],
   "source": [
    "sentence1 = \"\"\"Python is an interpreted, high-level and general-purpose programming language, Pythons design philosophy emphasizes code readability with its notable use of significant indentation. Its language constructs and object-oriented approach aim to help programmers write clear and logical code for small and large-scale projects. my name is Yathish Manjunath and i am learning python in DSU, DSU stands for its quality\"\"\""
   ]
  },
  {
   "cell_type": "code",
   "execution_count": 11,
   "id": "f08da954",
   "metadata": {},
   "outputs": [],
   "source": [
    "def NER(sentence):\n",
    "    for sent in nltk.sent_tokenize(sentence):\n",
    "        for chunk in nltk.ne_chunk(nltk.pos_tag(nltk.word_tokenize(sent))):\n",
    "            if hasattr(chunk, 'label'):\n",
    "                print(f\"{''.join(c[0] for c in chunk):<35} {chunk.label()}\")\n",
    "    print(\"\\n\")"
   ]
  },
  {
   "cell_type": "code",
   "execution_count": 20,
   "id": "d171ef8f",
   "metadata": {},
   "outputs": [
    {
     "name": "stdout",
     "output_type": "stream",
     "text": [
      "KashmirFiles                        ORGANIZATION\n",
      "Indian                              GPE\n",
      "VivekAgnihotri                      PERSON\n",
      "ZeeStudios                          PERSON\n",
      "KashmiriPandits                     ORGANIZATION\n",
      "KashmirInsurgency                   ORGANIZATION\n",
      "AnupamKher                          PERSON\n",
      "DarshanKumar                        PERSON\n",
      "PallaviJoshi                        PERSON\n",
      "MithunChakraborty                   PERSON\n",
      "\n",
      "\n"
     ]
    }
   ],
   "source": [
    "NER(sentence)"
   ]
  },
  {
   "cell_type": "code",
   "execution_count": 21,
   "id": "00609caa",
   "metadata": {},
   "outputs": [
    {
     "name": "stdout",
     "output_type": "stream",
     "text": [
      "Python                              GPE\n",
      "Pythons                             GPE\n",
      "YathishManjunath                    PERSON\n",
      "DSU                                 ORGANIZATION\n",
      "DSU                                 ORGANIZATION\n",
      "\n",
      "\n"
     ]
    }
   ],
   "source": [
    "NER(sentence1)"
   ]
  },
  {
   "cell_type": "code",
   "execution_count": 17,
   "id": "f9395111",
   "metadata": {},
   "outputs": [
    {
     "name": "stdout",
     "output_type": "stream",
     "text": [
      "Appleinc                            PERSON\n",
      "Cheap                               PERSON\n",
      "Buy                                 GPE\n",
      "\n",
      "\n"
     ]
    }
   ],
   "source": [
    "sample = \"\"\"Most valuable Smartphone is Appleinc.  Oranges are Cheap to Buy.\"\"\"\n",
    "NER(sample)"
   ]
  }
 ],
 "metadata": {
  "kernelspec": {
   "display_name": "Python 3 (ipykernel)",
   "language": "python",
   "name": "python3"
  },
  "language_info": {
   "codemirror_mode": {
    "name": "ipython",
    "version": 3
   },
   "file_extension": ".py",
   "mimetype": "text/x-python",
   "name": "python",
   "nbconvert_exporter": "python",
   "pygments_lexer": "ipython3",
   "version": "3.11.2"
  }
 },
 "nbformat": 4,
 "nbformat_minor": 5
}
